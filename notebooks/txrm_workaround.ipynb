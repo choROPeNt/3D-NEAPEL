{
 "cells": [
  {
   "cell_type": "code",
   "execution_count": 1,
   "metadata": {},
   "outputs": [
    {
     "ename": "ModuleNotFoundError",
     "evalue": "No module named 'xrmreader'",
     "output_type": "error",
     "traceback": [
      "\u001b[1;31m---------------------------------------------------------------------------\u001b[0m",
      "\u001b[1;31mModuleNotFoundError\u001b[0m                       Traceback (most recent call last)",
      "\u001b[1;32md:\\projects\\py_projects\\3D-NEAPEL\\notebooks\\txrm_workaround.ipynb Cell 1\u001b[0m in \u001b[0;36m<cell line: 4>\u001b[1;34m()\u001b[0m\n\u001b[0;32m      <a href='vscode-notebook-cell:/d%3A/projects/py_projects/3D-NEAPEL/notebooks/txrm_workaround.ipynb#W1sZmlsZQ%3D%3D?line=1'>2</a>\u001b[0m \u001b[39mimport\u001b[39;00m \u001b[39mnumpy\u001b[39;00m \u001b[39mas\u001b[39;00m \u001b[39mnp\u001b[39;00m\n\u001b[0;32m      <a href='vscode-notebook-cell:/d%3A/projects/py_projects/3D-NEAPEL/notebooks/txrm_workaround.ipynb#W1sZmlsZQ%3D%3D?line=2'>3</a>\u001b[0m \u001b[39mimport\u001b[39;00m \u001b[39mmatplotlib\u001b[39;00m\u001b[39m.\u001b[39;00m\u001b[39mpyplot\u001b[39;00m \u001b[39mas\u001b[39;00m \u001b[39mpyplot\u001b[39;00m\n\u001b[1;32m----> <a href='vscode-notebook-cell:/d%3A/projects/py_projects/3D-NEAPEL/notebooks/txrm_workaround.ipynb#W1sZmlsZQ%3D%3D?line=3'>4</a>\u001b[0m \u001b[39mimport\u001b[39;00m \u001b[39mxrmreader\u001b[39;00m\n",
      "\u001b[1;31mModuleNotFoundError\u001b[0m: No module named 'xrmreader'"
     ]
    }
   ],
   "source": [
    "import os\n",
    "import numpy as np\n",
    "import matplotlib.pyplot as pyplot\n",
    "import xrmreader\n"
   ]
  },
  {
   "attachments": {},
   "cell_type": "markdown",
   "metadata": {},
   "source": [
    "to install xrmreader please run in your terminal (PowerShell or CMD for windows)\n",
    "```\n",
    "python -m pip install xrmreader\n",
    "```"
   ]
  },
  {
   "cell_type": "code",
   "execution_count": 10,
   "metadata": {},
   "outputs": [
    {
     "name": "stdout",
     "output_type": "stream",
     "text": [
      "True\n"
     ]
    }
   ],
   "source": [
    "file = os.path.join('..','data','NEAPEL','neapel_002','Thinlayer 1-3_2023-03-30_155044','tomo-HR','Thinlayer 1-3_tomo-HR.txrm')\n",
    "print(os.path.exists(file))"
   ]
  },
  {
   "cell_type": "code",
   "execution_count": 11,
   "metadata": {},
   "outputs": [],
   "source": [
    "metadata = xrmreader.read_metadata(file)"
   ]
  },
  {
   "cell_type": "code",
   "execution_count": 12,
   "metadata": {},
   "outputs": [
    {
     "name": "stdout",
     "output_type": "stream",
     "text": [
      "facility None\n",
      "image_width 2026\n",
      "image_height 2026\n",
      "data_type 5\n",
      "number_of_images 3201\n",
      "pixel_size 1.4807668924331665\n",
      "reference_exposure_time 6.5\n",
      "reference_current 0.0\n",
      "reference_voltage 0.0\n",
      "reference_data_type 10\n",
      "image_data_type 5\n",
      "thetas [-3.14152288 -3.13952205 -3.13770763 ...  3.1377364   3.13973244\n",
      "  3.14150797]\n",
      "x-shifts [ -0.86404294 -17.47060585   5.99047756 ...   5.66780901 -11.85399055\n",
      "   2.22337151]\n",
      "y-shifts [-1.52170002 -3.30461979  4.35360098 ... -6.49033833  0.9292559\n",
      "  5.36166143]\n",
      "AMC-x-shifts None\n",
      "AMC-y-shifts None\n",
      "temperature-x-shifts [-4.05850649 -4.05722904 -4.05605888 ...  2.72301984  2.72221732\n",
      "  2.72149634]\n",
      "temperature-y-shifts [-1.49266791 -1.49266791 -1.49266791 ...  0.89834934  0.89834934\n",
      "  0.89834934]\n",
      "source-x-shifts None\n",
      "source-y-shifts None\n",
      "align-mode [3]\n",
      "center_shift -8.824000358581543\n",
      "rotation_angle 0.0\n",
      "source_isocenter_distance -7.0312347412109375\n",
      "detector_isocenter_distance 9.019805908203125\n",
      "cone_angle 12.042732238769531\n",
      "fan_angle 12.042732238769531\n",
      "camera_offset 0.0\n",
      "source_drift 0.0\n",
      "current 0.0\n",
      "voltage 0.0\n",
      "power 0.0\n",
      "exposure_time 6.5\n",
      "binning 1\n",
      "filter Air\n",
      "scaling_min -0.37789154052734375\n",
      "scaling_max 1.2105991840362549\n",
      "reference [[8060.2134 8109.8286 8132.8364 ... 6739.7183 6686.91   6669.9434]\n",
      " [8112.5996 8094.2227 8145.1675 ... 6728.076  6730.062  6609.732 ]\n",
      " [8121.425  8193.539  8064.555  ... 6711.247  6657.0264 6682.881 ]\n",
      " ...\n",
      " [8562.065  8543.467  8622.094  ... 7174.702  7171.366  6865.517 ]\n",
      " [8509.007  8558.925  8628.404  ... 7168.206  7155.895  6879.566 ]\n",
      " [8549.737  8517.166  8604.157  ... 7161.8447 7107.8975 6811.8013]]\n"
     ]
    }
   ],
   "source": [
    "for key in metadata.keys():\n",
    "    print(key,metadata[key])"
   ]
  },
  {
   "cell_type": "code",
   "execution_count": 13,
   "metadata": {},
   "outputs": [
    {
     "ename": "MemoryError",
     "evalue": "Unable to allocate 48.9 GiB for an array with shape (3201, 2026, 2026) and data type float32",
     "output_type": "error",
     "traceback": [
      "\u001b[0;31m---------------------------------------------------------------------------\u001b[0m",
      "\u001b[0;31mMemoryError\u001b[0m                               Traceback (most recent call last)",
      "Cell \u001b[0;32mIn[13], line 1\u001b[0m\n\u001b[0;32m----> 1\u001b[0m projections \u001b[39m=\u001b[39m xrmreader\u001b[39m.\u001b[39;49mread_txrm(file)\n",
      "File \u001b[0;32m/mnt/d/projects/py_projects/3dseg/.venv_3dseg/lib/python3.10/site-packages/xrmreader/reader.py:247\u001b[0m, in \u001b[0;36mread_txrm\u001b[0;34m(file_name, slice_range, to_list)\u001b[0m\n\u001b[1;32m    245\u001b[0m     array_of_images \u001b[39m=\u001b[39m []\n\u001b[1;32m    246\u001b[0m \u001b[39melse\u001b[39;00m:\n\u001b[0;32m--> 247\u001b[0m     array_of_images \u001b[39m=\u001b[39m np\u001b[39m.\u001b[39;49mempty(\n\u001b[1;32m    248\u001b[0m         _shape_after_slice(\n\u001b[1;32m    249\u001b[0m             (\n\u001b[1;32m    250\u001b[0m                 metadata[\u001b[39m\"\u001b[39;49m\u001b[39mnumber_of_images\u001b[39;49m\u001b[39m\"\u001b[39;49m],\n\u001b[1;32m    251\u001b[0m                 metadata[\u001b[39m\"\u001b[39;49m\u001b[39mimage_height\u001b[39;49m\u001b[39m\"\u001b[39;49m],\n\u001b[1;32m    252\u001b[0m                 metadata[\u001b[39m\"\u001b[39;49m\u001b[39mimage_width\u001b[39;49m\u001b[39m\"\u001b[39;49m],\n\u001b[1;32m    253\u001b[0m             ),\n\u001b[1;32m    254\u001b[0m             slice_range\n\u001b[1;32m    255\u001b[0m         ),\n\u001b[1;32m    256\u001b[0m         dtype\u001b[39m=\u001b[39;49mnp\u001b[39m.\u001b[39;49mfloat32\n\u001b[1;32m    257\u001b[0m     )\n\u001b[1;32m    259\u001b[0m \u001b[39mif\u001b[39;00m slice_range \u001b[39mis\u001b[39;00m \u001b[39mNone\u001b[39;00m:\n\u001b[1;32m    260\u001b[0m     slice_range \u001b[39m=\u001b[39m (\u001b[39mslice\u001b[39m(\u001b[39mNone\u001b[39;00m), \u001b[39mslice\u001b[39m(\u001b[39mNone\u001b[39;00m), \u001b[39mslice\u001b[39m(\u001b[39mNone\u001b[39;00m))\n",
      "\u001b[0;31mMemoryError\u001b[0m: Unable to allocate 48.9 GiB for an array with shape (3201, 2026, 2026) and data type float32"
     ]
    }
   ],
   "source": [
    "projections = xrmreader.read_txrm(file)"
   ]
  },
  {
   "cell_type": "code",
   "execution_count": 7,
   "metadata": {},
   "outputs": [],
   "source": [
    "data = np.fromfile(file)"
   ]
  },
  {
   "cell_type": "code",
   "execution_count": 8,
   "metadata": {},
   "outputs": [
    {
     "ename": "ValueError",
     "evalue": "cannot reshape array of size 2021403648 into shape (2010,2026,1980)",
     "output_type": "error",
     "traceback": [
      "\u001b[0;31m---------------------------------------------------------------------------\u001b[0m",
      "\u001b[0;31mValueError\u001b[0m                                Traceback (most recent call last)",
      "Cell \u001b[0;32mIn[8], line 1\u001b[0m\n\u001b[0;32m----> 1\u001b[0m data\u001b[39m.\u001b[39;49mreshape(\u001b[39m2010\u001b[39;49m, \u001b[39m2026\u001b[39;49m, \u001b[39m1980\u001b[39;49m)\n",
      "\u001b[0;31mValueError\u001b[0m: cannot reshape array of size 2021403648 into shape (2010,2026,1980)"
     ]
    }
   ],
   "source": [
    "data.reshape(2010, 2026, 1980)"
   ]
  }
 ],
 "metadata": {
  "kernelspec": {
   "display_name": ".venv_3dseg",
   "language": "python",
   "name": "python3"
  },
  "language_info": {
   "codemirror_mode": {
    "name": "ipython",
    "version": 3
   },
   "file_extension": ".py",
   "mimetype": "text/x-python",
   "name": "python",
   "nbconvert_exporter": "python",
   "pygments_lexer": "ipython3",
   "version": "3.10.4"
  },
  "orig_nbformat": 4
 },
 "nbformat": 4,
 "nbformat_minor": 2
}
